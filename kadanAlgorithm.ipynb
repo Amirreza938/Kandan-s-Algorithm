{
 "cells": [
  {
   "cell_type": "markdown",
   "id": "4c99d29d",
   "metadata": {},
   "source": [
    "# Kadane's Algorithm Interactive Notebook\n",
    "**Author:** Amirreza Asgharzadeh  |  **GitHub:** [Amirreza938](https://github.com/Amirreza938)\n",
    "\n",
    "---\n",
    "\n",
    "This notebook explores the Maximum Subarray Problem using Kadane's Algorithm and Brute Force, with interactive visualizations and explanations.\n",
    "\n",
    "## Table of Contents\n",
    "1. Interactive Demo\n",
    "2. Theory & Intuition\n",
    "3. Algorithm Implementations\n",
    "4. Step-by-Step Visualization\n",
    "5. Edge Cases\n",
    "6. Comparison Table\n",
    "7. References"
   ]
  },
  {
   "cell_type": "markdown",
   "id": "372d8f5d",
   "metadata": {},
   "source": [
    "## 1. Interactive Demo\n",
    "\n",
    "Use the widgets below to input your own array and select the algorithm. Results and visualizations update live!"
   ]
  },
  {
   "cell_type": "markdown",
   "id": "0a35504d",
   "metadata": {},
   "source": [
    "#  Kadane's Algorithm - Maximum Subarray Problem\n",
    "\n",
    "## Problem\n",
    "Given an array of integers, find the contiguous subarray (containing at least one number) with the largest sum and return the sum.\n",
    "\n",
    "## Example\n",
    "Input: [-2, 1, -3, 4, -1, 2, 1, -5, 4]  \n",
    "Output: 6 → [4, -1, 2, 1]\n",
    "\n"
   ]
  },
  {
   "cell_type": "code",
   "execution_count": null,
   "id": "2fc21b33",
   "metadata": {},
   "outputs": [
    {
     "ename": "",
     "evalue": "",
     "output_type": "error",
     "traceback": [
      "\u001b[1;31mThe kernel failed to start as the Python Environment 'Python 3.12.3' is no longer available. Consider selecting another kernel or refreshing the list of Python Environments."
     ]
    }
   ],
   "source": [
    "import ipywidgets as widgets\n",
    "from IPython.display import display, clear_output\n",
    "import matplotlib.pyplot as plt"
   ]
  },
  {
   "cell_type": "code",
   "execution_count": null,
   "id": "caca0254",
   "metadata": {},
   "outputs": [
    {
     "data": {
      "text/plain": [
       "6"
      ]
     },
     "execution_count": 1,
     "metadata": {},
     "output_type": "execute_result"
    }
   ],
   "source": [
    "def max_subarray_brute(nums):\n",
    "    \"\"\"Brute force O(n^2) solution for maximum subarray sum.\"\"\"\n",
    "    max_sum = float('-inf')\n",
    "    sub = []\n",
    "    for i in range(len(nums)):\n",
    "        for j in range(i, len(nums)):\n",
    "            s = sum(nums[i:j+1])\n",
    "            if s > max_sum:\n",
    "                max_sum = s\n",
    "                sub = nums[i:j+1]\n",
    "    return max_sum, sub\n",
    "\n",
    "def kadane_with_subarray(nums):\n",
    "    \"\"\"Kadane's O(n) algorithm, returns max sum and subarray.\"\"\"\n",
    "    max_sum = current_sum = nums[0]\n",
    "    start = end = s = 0\n",
    "    for i in range(1, len(nums)):\n",
    "        if nums[i] > current_sum + nums[i]:\n",
    "            current_sum = nums[i]\n",
    "            s = i\n",
    "        else:\n",
    "            current_sum += nums[i]\n",
    "        if current_sum > max_sum:\n",
    "            max_sum = current_sum\n",
    "            start, end = s, i\n",
    "    return max_sum, nums[start:end+1]"
   ]
  },
  {
   "cell_type": "code",
   "execution_count": null,
   "id": "b21bb435",
   "metadata": {},
   "outputs": [
    {
     "data": {
      "text/plain": [
       "6"
      ]
     },
     "execution_count": 2,
     "metadata": {},
     "output_type": "execute_result"
    }
   ],
   "source": [
    "def plot_subarray(arr, sub):\n",
    "    plt.figure(figsize=(8,4))\n",
    "    plt.plot(arr, marker='o')\n",
    "    if sub:\n",
    "        start = arr.index(sub[0])\n",
    "        end = start + len(sub) - 1\n",
    "        plt.axvspan(start, end, color='lightgreen', alpha=0.5)\n",
    "    plt.title('Maximum Subarray Highlighted')\n",
    "    plt.xlabel('Index')\n",
    "    plt.ylabel('Value')\n",
    "    plt.grid(True)\n",
    "    plt.show()"
   ]
  },
  {
   "cell_type": "code",
   "execution_count": null,
   "id": "0b0a5ece",
   "metadata": {},
   "outputs": [
    {
     "data": {
      "text/plain": [
       "(6, [4, -1, 2, 1])"
      ]
     },
     "execution_count": 3,
     "metadata": {},
     "output_type": "execute_result"
    }
   ],
   "source": [
    "def on_interact(array_str, algorithm):\n",
    "    try:\n",
    "        arr = [int(x.strip()) for x in array_str.split(',') if x.strip()]\n",
    "        if not arr:\n",
    "            print('Please enter at least one integer.')\n",
    "            return\n",
    "    except Exception as e:\n",
    "        print('Invalid input:', e)\n",
    "        return\n",
    "    if algorithm == 'Kadane':\n",
    "        max_sum, sub = kadane_with_subarray(arr)\n",
    "    else:\n",
    "        max_sum, sub = max_subarray_brute(arr)\n",
    "    print(f'Input: {arr}')\n",
    "    print(f'Maximum Subarray Sum: {max_sum}')\n",
    "    print(f'Subarray: {sub}')\n",
    "    plot_subarray(arr, sub)\n",
    "\n",
    "array_widget = widgets.Text(\n",
    "    value='-2, 1, -3, 4, -1, 2, 1, -5, 4',\n",
    "    description='Array:',\n",
    "    placeholder='Enter comma-separated integers',\n",
    "    layout=widgets.Layout(width='60%')\n",
    ")\n",
    "algorithm_widget = widgets.Dropdown(\n",
    "    options=['Kadane', 'Brute Force'],\n",
    "    value='Kadane',\n",
    "    description='Algorithm:',\n",
    "    layout=widgets.Layout(width='30%')\n",
    ")\n",
    "ui = widgets.HBox([array_widget, algorithm_widget])\n",
    "out = widgets.Output()\n",
    "\n",
    "def update_widgets(change=None):\n",
    "    with out:\n",
    "        clear_output(wait=True)\n",
    "        on_interact(array_widget.value, algorithm_widget.value)\n",
    "\n",
    "array_widget.observe(update_widgets, names='value')\n",
    "algorithm_widget.observe(update_widgets, names='value')\n",
    "display(ui, out)\n",
    "update_widgets()"
   ]
  },
  {
   "cell_type": "markdown",
   "id": "2601895b",
   "metadata": {},
   "source": [
    "## 2. Theory & Intuition\n",
    "\n",
    "Kadane's Algorithm is a dynamic programming approach to solve the maximum subarray problem in linear time.  \n",
    "It works by iterating through the array, at each step deciding whether to extend the current subarray or start a new one, based on which choice yields a higher sum.\n",
    "\n",
    "- If adding the current element increases the sum, extend the subarray.\n",
    "- If not, start a new subarray at the current element.\n",
    "\n",
    "This way, the algorithm efficiently finds the maximum sum of any contiguous subarray."
   ]
  },
  {
   "cell_type": "markdown",
   "id": "bc857820",
   "metadata": {},
   "source": [
    "## 3. Algorithm Implementations"
   ]
  },
  {
   "cell_type": "code",
   "execution_count": null,
   "id": "f212a0b1",
   "metadata": {},
   "outputs": [],
   "source": [
    "# Brute Force\n",
    "def max_subarray_brute(nums):\n",
    "    max_sum = float('-inf')\n",
    "    for i in range(len(nums)):\n",
    "        for j in range(i, len(nums)):\n",
    "            s = sum(nums[i:j+1])\n",
    "            max_sum = max(max_sum, s)\n",
    "    return max_sum\n",
    "\n",
    "# Kadane's Algorithm\n",
    "def kadane(nums):\n",
    "    max_sum = current_sum = nums[0]\n",
    "    for num in nums[1:]:\n",
    "        current_sum = max(num, current_sum + num)\n",
    "        max_sum = max(max_sum, current_sum)\n",
    "    return max_sum"
   ]
  },
  {
   "cell_type": "code",
   "execution_count": null,
   "id": "2d7984eb",
   "metadata": {},
   "outputs": [],
   "source": [
    "arr = [-2, 1, -3, 4, -1, 2, 1, -5, 4]\n",
    "print(\"Brute Force:\", max_subarray_brute(arr))\n",
    "print(\"Kadane:\", kadane(arr))"
   ]
  },
  {
   "cell_type": "markdown",
   "id": "9b316ef5",
   "metadata": {},
   "source": [
    "## 4. Step-by-Step Visualization\n",
    "\n",
    "The following cell visualizes Kadane's algorithm step by step, showing how the subarray and sum evolve."
   ]
  },
  {
   "cell_type": "code",
   "execution_count": null,
   "id": "2cb5bafe",
   "metadata": {},
   "outputs": [],
   "source": [
    "import time\n",
    "\n",
    "def kadane_step_visual(arr, delay=0.8):\n",
    "    max_sum = current_sum = arr[0]\n",
    "    start = end = s = 0\n",
    "    plt.figure(figsize=(8,4))\n",
    "    for i in range(1, len(arr)):\n",
    "        if arr[i] > current_sum + arr[i]:\n",
    "            current_sum = arr[i]\n",
    "            s = i\n",
    "        else:\n",
    "            current_sum += arr[i]\n",
    "        if current_sum > max_sum:\n",
    "            max_sum = current_sum\n",
    "            start, end = s, i\n",
    "        plt.clf()\n",
    "        plt.plot(arr, marker='o')\n",
    "        plt.axvspan(start, end, color='lightgreen', alpha=0.5)\n",
    "        plt.title(f'Step {i}: Current Sum = {current_sum}, Max Sum = {max_sum}')\n",
    "        plt.xlabel('Index')\n",
    "        plt.ylabel('Value')\n",
    "        plt.grid(True)\n",
    "        display(plt.gcf())\n",
    "        plt.pause(delay)\n",
    "        clear_output(wait=True)\n",
    "    plt.close()\n",
    "\n",
    "# Run the visualization\n",
    "kadane_step_visual(arr)"
   ]
  },
  {
   "cell_type": "markdown",
   "id": "dc025467",
   "metadata": {},
   "source": [
    "## 5. Edge Cases\n",
    "\n",
    "Let's see how the algorithm handles special cases:\n",
    "- All negative numbers\n",
    "- All positive numbers\n",
    "- Single element"
   ]
  },
  {
   "cell_type": "code",
   "execution_count": null,
   "id": "64f4f4cc",
   "metadata": {},
   "outputs": [],
   "source": [
    "test_cases = {\n",
    "    \"All Negative\": [-8, -3, -6, -2, -5, -4],\n",
    "    \"All Positive\": [2, 3, 1, 5],\n",
    "    \"Single Element\": [7]\n",
    "}\n",
    "\n",
    "for name, case in test_cases.items():\n",
    "    print(f\"{name}: {case}\")\n",
    "    print(\"Kadane's Result:\", kadane_with_subarray(case))\n",
    "    print()"
   ]
  },
  {
   "cell_type": "markdown",
   "id": "a8f2d6bc",
   "metadata": {},
   "source": [
    "## 6. Comparison Table\n",
    "\n",
    "Compare the performance and results of Brute Force and Kadane's Algorithm on various inputs."
   ]
  },
  {
   "cell_type": "code",
   "execution_count": null,
   "id": "3dd79b8e",
   "metadata": {},
   "outputs": [],
   "source": [
    "import timeit\n",
    "import pandas as pd\n",
    "\n",
    "test_arrays = [\n",
    "    [-2, 1, -3, 4, -1, 2, 1, -5, 4],\n",
    "    [1, 2, 3, 4, 5, 6, 7, 8, 9],\n",
    "    [-1, -2, -3, -4, -5],\n",
    "    [100, -90, 80, -70, 60, -50, 40, -30, 20, -10]\n",
    "]\n",
    "\n",
    "results = []\n",
    "for arr in test_arrays:\n",
    "    t1 = timeit.timeit(lambda: max_subarray_brute(arr), number=10)\n",
    "    t2 = timeit.timeit(lambda: kadane(arr), number=10)\n",
    "    brute = max_subarray_brute(arr)\n",
    "    kad = kadane(arr)\n",
    "    results.append({\n",
    "        \"Input\": str(arr),\n",
    "        \"Brute Force Result\": brute,\n",
    "        \"Kadane Result\": kad,\n",
    "        \"Brute Time (ms)\": round(t1*100, 2),\n",
    "        \"Kadane Time (ms)\": round(t2*100, 2)\n",
    "    })\n",
    "\n",
    "df = pd.DataFrame(results)\n",
    "df"
   ]
  },
  {
   "cell_type": "markdown",
   "id": "d93d1762",
   "metadata": {},
   "source": [
    "## 7. References\n",
    "\n",
    "- CLRS Chapter 4: Divide-and-Conquer / Dynamic Programming\n",
    "- [Kadane's Algorithm - Wikipedia](https://en.wikipedia.org/wiki/Maximum_subarray_problem)\n",
    "- [LeetCode 53. Maximum Subarray](https://leetcode.com/problems/maximum-subarray/)"
   ]
  }
 ],
 "metadata": {
  "kernelspec": {
   "display_name": "venv",
   "language": "python",
   "name": "python3"
  },
  "language_info": {
   "codemirror_mode": {
    "name": "ipython",
    "version": 3
   },
   "file_extension": ".py",
   "mimetype": "text/x-python",
   "name": "python",
   "nbconvert_exporter": "python",
   "pygments_lexer": "ipython3",
   "version": "3.12.3"
  }
 },
 "nbformat": 4,
 "nbformat_minor": 5
}
